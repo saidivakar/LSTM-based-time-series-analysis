{
  "metadata": {
    "language_info": {
      "mimetype": "text/x-python",
      "nbconvert_exporter": "python",
      "name": "python",
      "pygments_lexer": "ipython3",
      "version": "3.6.6",
      "file_extension": ".py",
      "codemirror_mode": {
        "version": 3,
        "name": "ipython"
      }
    },
    "kernelspec": {
      "name": "python36",
      "display_name": "Python 3.6",
      "language": "python"
    }
  },
  "nbformat_minor": 2,
  "nbformat": 4,
  "cells": [
    {
      "cell_type": "code",
      "source": "# importing libraries\n\nimport numpy as np\nimport pandas as pd\nimport matplotlib.pyplot as plt\n%matplotlib inline\n\nfrom sklearn.preprocessing import MinMaxScaler\n\nfrom keras.models import Sequential\nfrom keras.layers import Dense, LSTM, Dropout",
      "metadata": {
        "trusted": true
      },
      "execution_count": 1,
      "outputs": [
        {
          "text": "Using TensorFlow backend.\n",
          "name": "stderr",
          "output_type": "stream"
        }
      ]
    },
    {
      "cell_type": "code",
      "source": "# loading dataset\n\ndataset = pd.read_csv('Google_Stock_Price_Train.csv')\ntrain = dataset.iloc[:, 1:2].values\ndataset.head()",
      "metadata": {
        "trusted": true
      },
      "execution_count": 4,
      "outputs": [
        {
          "execution_count": 4,
          "output_type": "execute_result",
          "data": {
            "text/html": "<div>\n<style scoped>\n    .dataframe tbody tr th:only-of-type {\n        vertical-align: middle;\n    }\n\n    .dataframe tbody tr th {\n        vertical-align: top;\n    }\n\n    .dataframe thead th {\n        text-align: right;\n    }\n</style>\n<table border=\"1\" class=\"dataframe\">\n  <thead>\n    <tr style=\"text-align: right;\">\n      <th></th>\n      <th>Date</th>\n      <th>Open</th>\n      <th>High</th>\n      <th>Low</th>\n      <th>Close</th>\n      <th>Volume</th>\n    </tr>\n  </thead>\n  <tbody>\n    <tr>\n      <th>0</th>\n      <td>1/3/2012</td>\n      <td>325.25</td>\n      <td>332.83</td>\n      <td>324.97</td>\n      <td>663.59</td>\n      <td>7,380,500</td>\n    </tr>\n    <tr>\n      <th>1</th>\n      <td>1/4/2012</td>\n      <td>331.27</td>\n      <td>333.87</td>\n      <td>329.08</td>\n      <td>666.45</td>\n      <td>5,749,400</td>\n    </tr>\n    <tr>\n      <th>2</th>\n      <td>1/5/2012</td>\n      <td>329.83</td>\n      <td>330.75</td>\n      <td>326.89</td>\n      <td>657.21</td>\n      <td>6,590,300</td>\n    </tr>\n    <tr>\n      <th>3</th>\n      <td>1/6/2012</td>\n      <td>328.34</td>\n      <td>328.77</td>\n      <td>323.68</td>\n      <td>648.24</td>\n      <td>5,405,900</td>\n    </tr>\n    <tr>\n      <th>4</th>\n      <td>1/9/2012</td>\n      <td>322.04</td>\n      <td>322.29</td>\n      <td>309.46</td>\n      <td>620.76</td>\n      <td>11,688,800</td>\n    </tr>\n  </tbody>\n</table>\n</div>",
            "text/plain": "       Date    Open    High     Low   Close      Volume\n0  1/3/2012  325.25  332.83  324.97  663.59   7,380,500\n1  1/4/2012  331.27  333.87  329.08  666.45   5,749,400\n2  1/5/2012  329.83  330.75  326.89  657.21   6,590,300\n3  1/6/2012  328.34  328.77  323.68  648.24   5,405,900\n4  1/9/2012  322.04  322.29  309.46  620.76  11,688,800"
          },
          "metadata": {}
        }
      ]
    },
    {
      "cell_type": "code",
      "source": "train.shape\ntrain",
      "metadata": {
        "trusted": true
      },
      "execution_count": 5,
      "outputs": [
        {
          "execution_count": 5,
          "output_type": "execute_result",
          "data": {
            "text/plain": "array([[325.25],\n       [331.27],\n       [329.83],\n       ...,\n       [793.7 ],\n       [783.33],\n       [782.75]])"
          },
          "metadata": {}
        }
      ]
    },
    {
      "cell_type": "code",
      "source": "# feature scaling\n\nsc = MinMaxScaler(feature_range=(0,1))\ntrain_scaled = sc.fit_transform(train)\ntrain_scaled",
      "metadata": {
        "trusted": true
      },
      "execution_count": 6,
      "outputs": [
        {
          "execution_count": 6,
          "output_type": "execute_result",
          "data": {
            "text/plain": "array([[0.08581368],\n       [0.09701243],\n       [0.09433366],\n       ...,\n       [0.95725128],\n       [0.93796041],\n       [0.93688146]])"
          },
          "metadata": {}
        }
      ]
    },
    {
      "cell_type": "code",
      "source": "# creating a data structure with 60(from trial and error) timesteps and 1 output\n\nX_train = []\ny_train = []\n\nfor i in range(60, 1258):\n    X_train.append(train_scaled[i-60:i, 0])\n    y_train.append(train_scaled[i, 0])\n\nX_train, y_train = np.array(X_train), np.array(y_train) \nX_train",
      "metadata": {
        "trusted": true
      },
      "execution_count": 7,
      "outputs": [
        {
          "execution_count": 7,
          "output_type": "execute_result",
          "data": {
            "text/plain": "array([[0.08581368, 0.09701243, 0.09433366, ..., 0.07846566, 0.08034452,\n        0.08497656],\n       [0.09701243, 0.09433366, 0.09156187, ..., 0.08034452, 0.08497656,\n        0.08627874],\n       [0.09433366, 0.09156187, 0.07984225, ..., 0.08497656, 0.08627874,\n        0.08471612],\n       ...,\n       [0.92106928, 0.92438053, 0.93048218, ..., 0.95475854, 0.95204256,\n        0.95163331],\n       [0.92438053, 0.93048218, 0.9299055 , ..., 0.95204256, 0.95163331,\n        0.95725128],\n       [0.93048218, 0.9299055 , 0.93113327, ..., 0.95163331, 0.95725128,\n        0.93796041]])"
          },
          "metadata": {}
        }
      ]
    },
    {
      "cell_type": "code",
      "source": "# reshaping\nX_train = np.reshape(X_train, (X_train.shape[0], X_train.shape[1], 1))\nX_train.shape",
      "metadata": {
        "trusted": true
      },
      "execution_count": 8,
      "outputs": [
        {
          "execution_count": 8,
          "output_type": "execute_result",
          "data": {
            "text/plain": "(1198, 60, 1)"
          },
          "metadata": {}
        }
      ]
    },
    {
      "cell_type": "code",
      "source": "# initialize your model\nmodel = Sequential()",
      "metadata": {
        "trusted": true
      },
      "execution_count": 10,
      "outputs": []
    },
    {
      "cell_type": "code",
      "source": "# adding lstm and dropout layers\n\n# layer 1\nmodel.add(LSTM(units=50, return_sequences=True, input_shape= (X_train.shape[1], 1)))\nmodel.add(Dropout(0.2))\n\n# layer 2\nmodel.add(LSTM(units=50, return_sequences=True))\nmodel.add(Dropout(0.2))\n\n# layer 3\nmodel.add(LSTM(units=50, return_sequences=True))\nmodel.add(Dropout(0.2))\n\n# layer 4\nmodel.add(LSTM(units=50))\nmodel.add(Dropout(0.2))",
      "metadata": {
        "trusted": true
      },
      "execution_count": 11,
      "outputs": []
    },
    {
      "cell_type": "code",
      "source": "# adding output layer\nmodel.add(Dense(units=1))\n\n# compiling the model\nmodel.compile(optimizer='adam', loss='mean_squared_error')",
      "metadata": {
        "trusted": true
      },
      "execution_count": 12,
      "outputs": []
    },
    {
      "cell_type": "code",
      "source": "# fitting the RNN\nmodel.fit(X_train, y_train, epochs=100, batch_size=32)",
      "metadata": {
        "trusted": true
      },
      "execution_count": null,
      "outputs": [
        {
          "text": "Epoch 1/100\n1198/1198 [==============================] - 80s 67ms/step - loss: 0.0480\nEpoch 2/100\n1198/1198 [==============================] - 38s 32ms/step - loss: 0.0082\nEpoch 3/100\n1198/1198 [==============================] - 26s 22ms/step - loss: 0.0065\nEpoch 4/100\n1198/1198 [==============================] - 26s 22ms/step - loss: 0.0051\nEpoch 5/100\n1198/1198 [==============================] - 28s 23ms/step - loss: 0.0051\nEpoch 6/100\n1198/1198 [==============================] - 27s 23ms/step - loss: 0.0051\nEpoch 7/100\n1198/1198 [==============================] - 27s 23ms/step - loss: 0.0046\nEpoch 8/100\n1198/1198 [==============================] - 27s 22ms/step - loss: 0.0049\nEpoch 9/100\n1198/1198 [==============================] - 27s 22ms/step - loss: 0.0043\nEpoch 10/100\n1198/1198 [==============================] - 25s 21ms/step - loss: 0.0041\nEpoch 11/100\n1198/1198 [==============================] - 26s 21ms/step - loss: 0.0041\nEpoch 12/100\n1198/1198 [==============================] - 27s 23ms/step - loss: 0.0041\nEpoch 13/100\n1198/1198 [==============================] - 26s 22ms/step - loss: 0.0042\nEpoch 14/100\n1198/1198 [==============================] - 25s 21ms/step - loss: 0.0048\nEpoch 15/100\n1198/1198 [==============================] - 25s 21ms/step - loss: 0.0043\nEpoch 16/100\n1198/1198 [==============================] - 25s 21ms/step - loss: 0.0040\nEpoch 17/100\n1198/1198 [==============================] - 24s 20ms/step - loss: 0.0035\nEpoch 18/100\n1198/1198 [==============================] - 25s 21ms/step - loss: 0.0037\nEpoch 19/100\n1198/1198 [==============================] - 24s 20ms/step - loss: 0.0037\nEpoch 20/100\n1198/1198 [==============================] - 25s 21ms/step - loss: 0.0037\nEpoch 21/100\n1198/1198 [==============================] - 24s 20ms/step - loss: 0.0034\nEpoch 22/100\n1198/1198 [==============================] - 24s 20ms/step - loss: 0.0036\nEpoch 23/100\n1198/1198 [==============================] - 25s 21ms/step - loss: 0.0032\nEpoch 24/100\n1198/1198 [==============================] - 25s 21ms/step - loss: 0.0033\nEpoch 26/100\n1198/1198 [==============================] - 24s 20ms/step - loss: 0.0030\nEpoch 27/100\n1198/1198 [==============================] - 24s 20ms/step - loss: 0.0028\nEpoch 28/100\n1198/1198 [==============================] - 25s 21ms/step - loss: 0.0032\nEpoch 29/100\n1198/1198 [==============================] - 24s 20ms/step - loss: 0.0032\nEpoch 30/100\n1198/1198 [==============================] - 24s 20ms/step - loss: 0.0031\nEpoch 31/100\n1198/1198 [==============================] - 24s 20ms/step - loss: 0.0030\nEpoch 32/100\n1198/1198 [==============================] - 24s 20ms/step - loss: 0.0030\nEpoch 33/100\n1198/1198 [==============================] - 25s 21ms/step - loss: 0.0028\nEpoch 34/100\n1198/1198 [==============================] - 25s 21ms/step - loss: 0.0029\nEpoch 35/100\n1198/1198 [==============================] - 24s 20ms/step - loss: 0.0030\nEpoch 36/100\n1198/1198 [==============================] - 24s 20ms/step - loss: 0.0039\nEpoch 37/100\n1198/1198 [==============================] - 25s 20ms/step - loss: 0.0028\nEpoch 38/100\n1198/1198 [==============================] - 26s 22ms/step - loss: 0.0026\nEpoch 39/100\n1198/1198 [==============================] - 25s 21ms/step - loss: 0.0027\nEpoch 40/100\n1198/1198 [==============================] - 26s 21ms/step - loss: 0.0027\nEpoch 41/100\n1198/1198 [==============================] - 26s 21ms/step - loss: 0.0030\nEpoch 42/100\n1198/1198 [==============================] - 25s 21ms/step - loss: 0.0027\nEpoch 43/100\n1198/1198 [==============================] - 26s 22ms/step - loss: 0.0030\nEpoch 44/100\n1198/1198 [==============================] - 24s 20ms/step - loss: 0.0026\nEpoch 45/100\n1198/1198 [==============================] - 25s 21ms/step - loss: 0.0025\nEpoch 46/100\n1198/1198 [==============================] - 26s 21ms/step - loss: 0.0026\nEpoch 47/100\n1198/1198 [==============================] - 25s 21ms/step - loss: 0.0026\nEpoch 48/100\n1198/1198 [==============================] - 26s 22ms/step - loss: 0.0025\nEpoch 49/100\n1198/1198 [==============================] - 25s 21ms/step - loss: 0.0030\nEpoch 50/100\n1198/1198 [==============================] - 25s 21ms/step - loss: 0.0023\nEpoch 51/100\n1198/1198 [==============================] - 25s 21ms/step - loss: 0.0023\nEpoch 52/100\n1198/1198 [==============================] - 25s 21ms/step - loss: 0.0024\nEpoch 53/100\n1198/1198 [==============================] - 25s 21ms/step - loss: 0.0023\nEpoch 54/100\n1198/1198 [==============================] - 24s 20ms/step - loss: 0.0024\nEpoch 55/100\n1198/1198 [==============================] - 24s 20ms/step - loss: 0.0023\nEpoch 56/100\n1198/1198 [==============================] - 25s 21ms/step - loss: 0.0022\nEpoch 57/100\n1198/1198 [==============================] - 25s 21ms/step - loss: 0.0025\nEpoch 58/100\n1198/1198 [==============================] - 25s 21ms/step - loss: 0.0022\nEpoch 59/100\n1198/1198 [==============================] - 24s 20ms/step - loss: 0.0022\nEpoch 60/100\n1198/1198 [==============================] - 25s 21ms/step - loss: 0.0021\nEpoch 61/100\n1198/1198 [==============================] - 25s 20ms/step - loss: 0.0023\nEpoch 62/100\n1198/1198 [==============================] - 25s 21ms/step - loss: 0.0022\nEpoch 63/100\n1198/1198 [==============================] - 26s 22ms/step - loss: 0.0022\nEpoch 64/100\n1198/1198 [==============================] - 24s 20ms/step - loss: 0.0021\nEpoch 65/100\n1198/1198 [==============================] - 25s 21ms/step - loss: 0.0023\nEpoch 66/100\n1198/1198 [==============================] - 25s 21ms/step - loss: 0.0023\nEpoch 67/100\n1198/1198 [==============================] - 26s 21ms/step - loss: 0.0019\nEpoch 68/100\n1198/1198 [==============================] - 25s 21ms/step - loss: 0.0022\nEpoch 69/100\n1198/1198 [==============================] - 26s 22ms/step - loss: 0.0019\nEpoch 70/100\n1198/1198 [==============================] - 26s 22ms/step - loss: 0.0020\nEpoch 71/100\n1198/1198 [==============================] - 27s 23ms/step - loss: 0.0020\nEpoch 72/100\n1198/1198 [==============================] - 26s 22ms/step - loss: 0.0022\nEpoch 73/100\n1198/1198 [==============================] - 26s 22ms/step - loss: 0.0018\nEpoch 74/100\n1198/1198 [==============================] - 26s 22ms/step - loss: 0.0018\nEpoch 75/100\n1198/1198 [==============================] - 26s 21ms/step - loss: 0.0017\nEpoch 76/100\n1198/1198 [==============================] - 26s 22ms/step - loss: 0.0018\nEpoch 77/100\n1198/1198 [==============================] - 26s 21ms/step - loss: 0.0021\nEpoch 78/100\n1198/1198 [==============================] - 24s 20ms/step - loss: 0.0016\nEpoch 79/100\n1198/1198 [==============================] - 24s 20ms/step - loss: 0.0019\nEpoch 80/100\n1198/1198 [==============================] - 25s 21ms/step - loss: 0.0017\nEpoch 81/100\n1198/1198 [==============================] - 24s 20ms/step - loss: 0.0018\nEpoch 82/100\n1198/1198 [==============================] - 24s 20ms/step - loss: 0.0017\nEpoch 83/100\n1198/1198 [==============================] - 25s 21ms/step - loss: 0.0019\nEpoch 84/100\n1198/1198 [==============================] - 23s 20ms/step - loss: 0.0018\nEpoch 85/100\n1198/1198 [==============================] - 26s 21ms/step - loss: 0.0017\nEpoch 86/100\n1198/1198 [==============================] - 25s 21ms/step - loss: 0.0017\nEpoch 87/100\n 640/1198 [===============>..............] - ETA: 10s - loss: 0.0016",
          "name": "stdout",
          "output_type": "stream"
        }
      ]
    },
    {
      "cell_type": "code",
      "source": "# get real stock prices from test set\ndata_test = pd.read_csv('Google_Stock_Price_Test.csv')\nreal_stock_price = data_test.iloc[:, 1:2].values",
      "metadata": {
        "trusted": true
      },
      "execution_count": 14,
      "outputs": []
    },
    {
      "cell_type": "code",
      "source": "real_stock_price.shape",
      "metadata": {
        "trusted": true
      },
      "execution_count": 15,
      "outputs": [
        {
          "execution_count": 15,
          "output_type": "execute_result",
          "data": {
            "text/plain": "(20, 1)"
          },
          "metadata": {}
        }
      ]
    },
    {
      "cell_type": "code",
      "source": "real_stock_price",
      "metadata": {
        "trusted": true
      },
      "execution_count": 16,
      "outputs": [
        {
          "execution_count": 16,
          "output_type": "execute_result",
          "data": {
            "text/plain": "array([[778.81],\n       [788.36],\n       [786.08],\n       [795.26],\n       [806.4 ],\n       [807.86],\n       [805.  ],\n       [807.14],\n       [807.48],\n       [807.08],\n       [805.81],\n       [805.12],\n       [806.91],\n       [807.25],\n       [822.3 ],\n       [829.62],\n       [837.81],\n       [834.71],\n       [814.66],\n       [796.86]])"
          },
          "metadata": {}
        }
      ]
    },
    {
      "cell_type": "code",
      "source": "# predicting stock prices\n\ntotal_data = pd.concat((dataset['Open'], data_test['Open']), axis = 0)\ninputs = total_data[len(total_data) - len(data_test) - 60:].values\ninputs = inputs.reshape(-1,1)\ninputs = sc.transform(inputs)\n\nX_test = []\n\nfor i in range(60, 80):\n    X_test.append(inputs[i-60:i, 0])\n\nX_test = np.array(X_test)\n\nX_test = np.reshape(X_test, (X_test.shape[0], X_test.shape[1], 1))\n\npredicted_stock_price = model.predict(X_test)\npredicted_stock_price = sc.inverse_transform(predicted_stock_price)",
      "metadata": {
        "trusted": true
      },
      "execution_count": 17,
      "outputs": []
    },
    {
      "cell_type": "code",
      "source": "predicted_stock_price",
      "metadata": {
        "trusted": true
      },
      "execution_count": 18,
      "outputs": [
        {
          "execution_count": 18,
          "output_type": "execute_result",
          "data": {
            "text/plain": "array([[782.8992 ],\n       [779.6583 ],\n       [779.4574 ],\n       [780.7977 ],\n       [784.0787 ],\n       [789.76874],\n       [794.92163],\n       [796.7007 ],\n       [796.3655 ],\n       [795.6087 ],\n       [795.3091 ],\n       [795.4205 ],\n       [795.7732 ],\n       [796.7475 ],\n       [798.0042 ],\n       [802.6436 ],\n       [809.6419 ],\n       [817.0333 ],\n       [820.8318 ],\n       [816.2593 ]], dtype=float32)"
          },
          "metadata": {}
        }
      ]
    },
    {
      "cell_type": "code",
      "source": "# visualizing stock prices\n\nplt.figure(figsize=(10, 5))\nplt.plot(real_stock_price, color='red', label='Real Price')\nplt.plot(predicted_stock_price, color='blue', label='Predicted Price')\nplt.title('Google Stock Price Trend')\nplt.xlabel('Time')\nplt.ylabel('Price')\nplt.legend()",
      "metadata": {
        "trusted": true
      },
      "execution_count": 19,
      "outputs": [
        {
          "execution_count": 19,
          "output_type": "execute_result",
          "data": {
            "text/plain": "<matplotlib.legend.Legend at 0x7f066dbcfa20>"
          },
          "metadata": {}
        },
        {
          "output_type": "display_data",
          "data": {
            "image/png": "[encoded data removed]",
            "text/plain": "<Figure size 720x360 with 1 Axes>"
          },
          "metadata": {
            "needs_background": "light"
          }
        }
      ]
    },
    {
      "cell_type": "code",
      "source": "",
      "metadata": {},
      "execution_count": null,
      "outputs": []
    }
  ]
}